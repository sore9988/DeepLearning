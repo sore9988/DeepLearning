{
 "cells": [
  {
   "cell_type": "code",
   "execution_count": 1,
   "metadata": {},
   "outputs": [],
   "source": [
    "import pandas as pd\n",
    "import os\n",
    "import glob\n",
    "def get_data(dn):\n",
    "    data = {\n",
    "        \"news\":[],\n",
    "        \"ans\":[]\n",
    "    }\n",
    "    dirs = glob.glob(os.path.join(dn, \"*\"))\n",
    "    for d in dirs:\n",
    "        pat = os.path.join(d, \"*.[tT][xX][tT]\")\n",
    "        fs = glob.glob(pat)\n",
    "        for fp in fs:\n",
    "            with open(fp, \"r\", encoding=\"utf-8\") as f :\n",
    "                news = f.read()\n",
    "            ans = os.path.split(d)[-1]\n",
    "            data[\"news\"].append(news)\n",
    "            data[\"ans\"].append(ans)\n",
    "    df = pd.DataFrame(data, columns=[\"news\",\"ans\"])\n",
    "    return df"
   ]
  },
  {
   "cell_type": "code",
   "execution_count": 2,
   "metadata": {
    "collapsed": true
   },
   "outputs": [
    {
     "data": {
      "text/html": [
       "<div>\n",
       "<style scoped>\n",
       "    .dataframe tbody tr th:only-of-type {\n",
       "        vertical-align: middle;\n",
       "    }\n",
       "\n",
       "    .dataframe tbody tr th {\n",
       "        vertical-align: top;\n",
       "    }\n",
       "\n",
       "    .dataframe thead th {\n",
       "        text-align: right;\n",
       "    }\n",
       "</style>\n",
       "<table border=\"1\" class=\"dataframe\">\n",
       "  <thead>\n",
       "    <tr style=\"text-align: right;\">\n",
       "      <th></th>\n",
       "      <th>news</th>\n",
       "      <th>ans</th>\n",
       "    </tr>\n",
       "  </thead>\n",
       "  <tbody>\n",
       "    <tr>\n",
       "      <th>0</th>\n",
       "      <td>日月光華 -- Traffic_Info精華區文章閱讀\\n-----------------...</td>\n",
       "      <td>交通</td>\n",
       "    </tr>\n",
       "    <tr>\n",
       "      <th>1</th>\n",
       "      <td>日月光華 -- Traffic_Info精華區文章閱讀\\n-----------------...</td>\n",
       "      <td>交通</td>\n",
       "    </tr>\n",
       "    <tr>\n",
       "      <th>2</th>\n",
       "      <td>日月光華 -- Traffic_Info精華區文章閱讀\\n-----------------...</td>\n",
       "      <td>交通</td>\n",
       "    </tr>\n",
       "    <tr>\n",
       "      <th>3</th>\n",
       "      <td>三趟火車停開 乘客可全額退票 \\n瀏覽次數：1180 \\n    昨日，來自鐵路部門的消息說...</td>\n",
       "      <td>交通</td>\n",
       "    </tr>\n",
       "    <tr>\n",
       "      <th>4</th>\n",
       "      <td>日月光華 -- Traffic_Info精華區文章閱讀\\n-----------------...</td>\n",
       "      <td>交通</td>\n",
       "    </tr>\n",
       "    <tr>\n",
       "      <th>...</th>\n",
       "      <td>...</td>\n",
       "      <td>...</td>\n",
       "    </tr>\n",
       "    <tr>\n",
       "      <th>96</th>\n",
       "      <td>最優秀選手無緣亞運會健美賽\\n \\n　 \\n    健美在亞洲運動會上是“新生兒”——韓國釜...</td>\n",
       "      <td>體育</td>\n",
       "    </tr>\n",
       "    <tr>\n",
       "      <th>97</th>\n",
       "      <td>\\n各國記者眼中的羽毛球世錦賽\\n \\n\\n-----------------------...</td>\n",
       "      <td>體育</td>\n",
       "    </tr>\n",
       "    <tr>\n",
       "      <th>98</th>\n",
       "      <td>\\n友好運動會第五天 東道主選手大顯神威\\n2001年09月03日02:51:40 新華社 ...</td>\n",
       "      <td>體育</td>\n",
       "    </tr>\n",
       "    <tr>\n",
       "      <th>99</th>\n",
       "      <td>不靠技術比運氣\\n\\n　　第二屆奧運會在巴黎舉行，同時這裡也正在舉行國際博覽會，東道主把一些...</td>\n",
       "      <td>體育</td>\n",
       "    </tr>\n",
       "    <tr>\n",
       "      <th>100</th>\n",
       "      <td>帆 板 運 動 簡 介（二）\\n\\n　　我國在79年由國家體委青島航海運動學校成功試製出第一...</td>\n",
       "      <td>體育</td>\n",
       "    </tr>\n",
       "  </tbody>\n",
       "</table>\n",
       "<p>101 rows × 2 columns</p>\n",
       "</div>"
      ],
      "text/plain": [
       "                                                  news ans\n",
       "0    日月光華 -- Traffic_Info精華區文章閱讀\\n-----------------...  交通\n",
       "1    日月光華 -- Traffic_Info精華區文章閱讀\\n-----------------...  交通\n",
       "2    日月光華 -- Traffic_Info精華區文章閱讀\\n-----------------...  交通\n",
       "3    三趟火車停開 乘客可全額退票 \\n瀏覽次數：1180 \\n    昨日，來自鐵路部門的消息說...  交通\n",
       "4    日月光華 -- Traffic_Info精華區文章閱讀\\n-----------------...  交通\n",
       "..                                                 ...  ..\n",
       "96   最優秀選手無緣亞運會健美賽\\n \\n　 \\n    健美在亞洲運動會上是“新生兒”——韓國釜...  體育\n",
       "97    \\n各國記者眼中的羽毛球世錦賽\\n \\n\\n-----------------------...  體育\n",
       "98   \\n友好運動會第五天 東道主選手大顯神威\\n2001年09月03日02:51:40 新華社 ...  體育\n",
       "99   不靠技術比運氣\\n\\n　　第二屆奧運會在巴黎舉行，同時這裡也正在舉行國際博覽會，東道主把一些...  體育\n",
       "100  帆 板 運 動 簡 介（二）\\n\\n　　我國在79年由國家體委青島航海運動學校成功試製出第一...  體育\n",
       "\n",
       "[101 rows x 2 columns]"
      ]
     },
     "execution_count": 2,
     "metadata": {},
     "output_type": "execute_result"
    }
   ],
   "source": [
    "train_df = get_data(\"chinese_news_trans/chinese_news_trans\")\n",
    "test_df = get_data(\"chinese_news_test/chinese_news_test\")\n",
    "test_df"
   ]
  },
  {
   "cell_type": "code",
   "execution_count": 22,
   "metadata": {
    "collapsed": true
   },
   "outputs": [
    {
     "name": "stdout",
     "output_type": "stream",
     "text": [
      "['交通', '政治', '教育', '環境', '經濟', '藝術', '計算機', '軍事', '醫藥', '體育']\n"
     ]
    },
    {
     "data": {
      "text/plain": [
       "{'交通': 0,\n",
       " '政治': 1,\n",
       " '教育': 2,\n",
       " '環境': 3,\n",
       " '經濟': 4,\n",
       " '藝術': 5,\n",
       " '計算機': 6,\n",
       " '軍事': 7,\n",
       " '醫藥': 8,\n",
       " '體育': 9}"
      ]
     },
     "execution_count": 22,
     "metadata": {},
     "output_type": "execute_result"
    }
   ],
   "source": [
    "# unique value_count\n",
    "# .unique() 重複的刪除\n",
    "kind = train_df[\"ans\"].unique()\n",
    "kind\n",
    "# enumerate\n",
    "trans = {k:i for i, k in enumerate(kind)}\n",
    "reverse_trans = {i:k for i, k in enumerate(kind)}\n",
    "k=[]\n",
    "for i in kind:\n",
    "    k=k+[i]\n",
    "print(k)\n",
    "trans"
   ]
  },
  {
   "cell_type": "code",
   "execution_count": 24,
   "metadata": {},
   "outputs": [],
   "source": [
    "y_train = train_df[\"ans\"].replace(trans)\n",
    "y_test = test_df[\"ans\"].replace(trans)"
   ]
  },
  {
   "cell_type": "code",
   "execution_count": 26,
   "metadata": {},
   "outputs": [],
   "source": [
    "import os\n",
    "from urllib.request import urlretrieve\n",
    "DICT_PATH = \"dict.txt.big\"\n",
    "if not os.path.exists(DICT_PATH):\n",
    "    print(\"字典不存在\")\n",
    "    url = \"https://github.com/fxsjy/jieba/raw/master/extra_dict/dict.txt.big\"\n",
    "    urlretrieve(url, DICT_PATH)"
   ]
  },
  {
   "cell_type": "code",
   "execution_count": 27,
   "metadata": {},
   "outputs": [
    {
     "name": "stderr",
     "output_type": "stream",
     "text": [
      "Building prefix dict from D:\\code\\PycharmProjects\\machine_learning_0407\\dict.txt.big ...\n",
      "Loading model from cache C:\\Users\\sore\\AppData\\Local\\Temp\\jieba.u0eb74b94744750b7ed4acf4fc6132938.cache\n",
      "Loading model cost 3.418 seconds.\n",
      "Prefix dict has been built successfully.\n"
     ]
    }
   ],
   "source": [
    "import jieba\n",
    "jieba.set_dictionary(DICT_PATH)\n",
    "def newscut(news):\n",
    "    s = \" \".join(jieba.cut(news))\n",
    "    return s.replace(\"\\r\", \"\").replace(\"\\n\", \"\")\n",
    "x_train_raw = train_df[\"news\"].apply(newscut)\n",
    "x_test_raw = test_df[\"news\"].apply(newscut)"
   ]
  },
  {
   "cell_type": "code",
   "execution_count": 29,
   "metadata": {},
   "outputs": [],
   "source": [
    "from sklearn.feature_extraction.text import CountVectorizer\n",
    "vec = CountVectorizer()\n",
    "x_train = vec.fit_transform(x_train_raw)\n",
    "x_test = vec.transform(x_test_raw)"
   ]
  },
  {
   "cell_type": "code",
   "execution_count": 31,
   "metadata": {},
   "outputs": [
    {
     "data": {
      "text/plain": [
       "MultinomialNB(alpha=1.0, class_prior=None, fit_prior=True)"
      ]
     },
     "execution_count": 31,
     "metadata": {},
     "output_type": "execute_result"
    }
   ],
   "source": [
    "from sklearn.naive_bayes import MultinomialNB\n",
    "clf = MultinomialNB()\n",
    "clf.fit(x_train, y_train)"
   ]
  },
  {
   "cell_type": "code",
   "execution_count": 32,
   "metadata": {},
   "outputs": [
    {
     "data": {
      "text/plain": [
       "1.0"
      ]
     },
     "execution_count": 32,
     "metadata": {},
     "output_type": "execute_result"
    }
   ],
   "source": [
    "from sklearn.metrics import accuracy_score\n",
    "pre = clf.predict(x_test)\n",
    "accuracy_score(pre, y_test)"
   ]
  },
  {
   "cell_type": "code",
   "execution_count": 33,
   "metadata": {},
   "outputs": [
    {
     "data": {
      "text/html": [
       "<div>\n",
       "<style scoped>\n",
       "    .dataframe tbody tr th:only-of-type {\n",
       "        vertical-align: middle;\n",
       "    }\n",
       "\n",
       "    .dataframe tbody tr th {\n",
       "        vertical-align: top;\n",
       "    }\n",
       "\n",
       "    .dataframe thead th {\n",
       "        text-align: right;\n",
       "    }\n",
       "</style>\n",
       "<table border=\"1\" class=\"dataframe\">\n",
       "  <thead>\n",
       "    <tr style=\"text-align: right;\">\n",
       "      <th></th>\n",
       "      <th>交通(預測)</th>\n",
       "      <th>政治(預測)</th>\n",
       "      <th>教育(預測)</th>\n",
       "      <th>環境(預測)</th>\n",
       "      <th>經濟(預測)</th>\n",
       "      <th>藝術(預測)</th>\n",
       "      <th>計算機(預測)</th>\n",
       "      <th>軍事(預測)</th>\n",
       "      <th>醫藥(預測)</th>\n",
       "      <th>體育(預測)</th>\n",
       "    </tr>\n",
       "  </thead>\n",
       "  <tbody>\n",
       "    <tr>\n",
       "      <th>交通(答案)</th>\n",
       "      <td>10</td>\n",
       "      <td>0</td>\n",
       "      <td>0</td>\n",
       "      <td>0</td>\n",
       "      <td>0</td>\n",
       "      <td>0</td>\n",
       "      <td>0</td>\n",
       "      <td>0</td>\n",
       "      <td>0</td>\n",
       "      <td>0</td>\n",
       "    </tr>\n",
       "    <tr>\n",
       "      <th>政治(答案)</th>\n",
       "      <td>0</td>\n",
       "      <td>11</td>\n",
       "      <td>0</td>\n",
       "      <td>0</td>\n",
       "      <td>0</td>\n",
       "      <td>0</td>\n",
       "      <td>0</td>\n",
       "      <td>0</td>\n",
       "      <td>0</td>\n",
       "      <td>0</td>\n",
       "    </tr>\n",
       "    <tr>\n",
       "      <th>教育(答案)</th>\n",
       "      <td>0</td>\n",
       "      <td>0</td>\n",
       "      <td>10</td>\n",
       "      <td>0</td>\n",
       "      <td>0</td>\n",
       "      <td>0</td>\n",
       "      <td>0</td>\n",
       "      <td>0</td>\n",
       "      <td>0</td>\n",
       "      <td>0</td>\n",
       "    </tr>\n",
       "    <tr>\n",
       "      <th>環境(答案)</th>\n",
       "      <td>0</td>\n",
       "      <td>0</td>\n",
       "      <td>0</td>\n",
       "      <td>10</td>\n",
       "      <td>0</td>\n",
       "      <td>0</td>\n",
       "      <td>0</td>\n",
       "      <td>0</td>\n",
       "      <td>0</td>\n",
       "      <td>0</td>\n",
       "    </tr>\n",
       "    <tr>\n",
       "      <th>經濟(答案)</th>\n",
       "      <td>0</td>\n",
       "      <td>0</td>\n",
       "      <td>0</td>\n",
       "      <td>0</td>\n",
       "      <td>10</td>\n",
       "      <td>0</td>\n",
       "      <td>0</td>\n",
       "      <td>0</td>\n",
       "      <td>0</td>\n",
       "      <td>0</td>\n",
       "    </tr>\n",
       "    <tr>\n",
       "      <th>藝術(答案)</th>\n",
       "      <td>0</td>\n",
       "      <td>0</td>\n",
       "      <td>0</td>\n",
       "      <td>0</td>\n",
       "      <td>0</td>\n",
       "      <td>10</td>\n",
       "      <td>0</td>\n",
       "      <td>0</td>\n",
       "      <td>0</td>\n",
       "      <td>0</td>\n",
       "    </tr>\n",
       "    <tr>\n",
       "      <th>計算機(答案)</th>\n",
       "      <td>0</td>\n",
       "      <td>0</td>\n",
       "      <td>0</td>\n",
       "      <td>0</td>\n",
       "      <td>0</td>\n",
       "      <td>0</td>\n",
       "      <td>10</td>\n",
       "      <td>0</td>\n",
       "      <td>0</td>\n",
       "      <td>0</td>\n",
       "    </tr>\n",
       "    <tr>\n",
       "      <th>軍事(答案)</th>\n",
       "      <td>0</td>\n",
       "      <td>0</td>\n",
       "      <td>0</td>\n",
       "      <td>0</td>\n",
       "      <td>0</td>\n",
       "      <td>0</td>\n",
       "      <td>0</td>\n",
       "      <td>10</td>\n",
       "      <td>0</td>\n",
       "      <td>0</td>\n",
       "    </tr>\n",
       "    <tr>\n",
       "      <th>醫藥(答案)</th>\n",
       "      <td>0</td>\n",
       "      <td>0</td>\n",
       "      <td>0</td>\n",
       "      <td>0</td>\n",
       "      <td>0</td>\n",
       "      <td>0</td>\n",
       "      <td>0</td>\n",
       "      <td>0</td>\n",
       "      <td>10</td>\n",
       "      <td>0</td>\n",
       "    </tr>\n",
       "    <tr>\n",
       "      <th>體育(答案)</th>\n",
       "      <td>0</td>\n",
       "      <td>0</td>\n",
       "      <td>0</td>\n",
       "      <td>0</td>\n",
       "      <td>0</td>\n",
       "      <td>0</td>\n",
       "      <td>0</td>\n",
       "      <td>0</td>\n",
       "      <td>0</td>\n",
       "      <td>10</td>\n",
       "    </tr>\n",
       "  </tbody>\n",
       "</table>\n",
       "</div>"
      ],
      "text/plain": [
       "         交通(預測)  政治(預測)  教育(預測)  環境(預測)  經濟(預測)  藝術(預測)  計算機(預測)  軍事(預測)  \\\n",
       "交通(答案)       10       0       0       0       0       0        0       0   \n",
       "政治(答案)        0      11       0       0       0       0        0       0   \n",
       "教育(答案)        0       0      10       0       0       0        0       0   \n",
       "環境(答案)        0       0       0      10       0       0        0       0   \n",
       "經濟(答案)        0       0       0       0      10       0        0       0   \n",
       "藝術(答案)        0       0       0       0       0      10        0       0   \n",
       "計算機(答案)       0       0       0       0       0       0       10       0   \n",
       "軍事(答案)        0       0       0       0       0       0        0      10   \n",
       "醫藥(答案)        0       0       0       0       0       0        0       0   \n",
       "體育(答案)        0       0       0       0       0       0        0       0   \n",
       "\n",
       "         醫藥(預測)  體育(預測)  \n",
       "交通(答案)        0       0  \n",
       "政治(答案)        0       0  \n",
       "教育(答案)        0       0  \n",
       "環境(答案)        0       0  \n",
       "經濟(答案)        0       0  \n",
       "藝術(答案)        0       0  \n",
       "計算機(答案)       0       0  \n",
       "軍事(答案)        0       0  \n",
       "醫藥(答案)       10       0  \n",
       "體育(答案)        0      10  "
      ]
     },
     "execution_count": 33,
     "metadata": {},
     "output_type": "execute_result"
    }
   ],
   "source": [
    "from sklearn.metrics import confusion_matrix\n",
    "mat = confusion_matrix(y_test, pre)\n",
    "col = [\"{}(預測)\".format(k) for k in kind]\n",
    "row = [\"{}(答案)\".format(k) for k in kind]\n",
    "pd.DataFrame(mat, columns=col, index=row)"
   ]
  },
  {
   "cell_type": "code",
   "execution_count": 34,
   "metadata": {},
   "outputs": [
    {
     "name": "stdout",
     "output_type": "stream",
     "text": [
      "請輸入新聞:新北市一名林姓男子上月騎機車在新店區中正路等候姊姊下班，準備一同返家，卻無預警遭王姓男子從後方朝背部猛刺一刀，送醫宣告不治。台北地檢署調查後，今依殺人罪起訴，考量王男犯後態度不佳，向法院請求量處最嚴厲之刑。  家住新北市中和區的32歲林姓男子，今年3月13日晚間10時許，騎機車至新店區中正路上一間連鎖超商前，才以手機傳完訊息告知姊姊，人已到樓下，在路旁等候即將下班的姊姊，突遭王姓男子（22歲）持料理刀從背後猛力捅了一刀，當場連人帶車倒地。  路人見狀報警送醫，王隨即轉身開車逃逸，林男送慈濟新店分院急救後宣告不治。目擊者王妻告知警方王開車往新店秀朗橋往中和方向，新店警方在案發後20分鐘，迅速趕到秀朗橋頭逮捕王帶回派出所。  警詢後將王依殺人罪移送北檢，檢方訊後以王涉殺人重罪、有逃亡之虞，向法院聲請羈押，法院裁准。檢方審酌王僅因與其妻因用餐地點意見不合，為發洩情緒、報復其妻不順從其意，隨機挑選不認識、無任何仇恨、過節之無辜被害人下手，堪認王心態可議，惡性重大。  檢方認為，王行凶後，林坐在人行道上看向王的背影，發出淒厲求救聲，臉上表情甚為驚恐，惟王竟視若無睹，立即駕車逃逸，可見其手段兇殘，林生前突遭陌生人背刺的精神恐懼及其身體痛楚，非文字所能形容，且令林男家屬承受驟失親人痛苦，造成無法彌補之損害。  王於本案發生後，始終否認具殺人犯意，藉詞脫罪，且尚未賠償林男家屬，犯罪後態度難認良好等節，暨王男智識、經濟能力等一切情狀，建請量處最嚴厲之刑。\n",
      "應該是: 醫藥\n",
      "醫藥 : 99.8151560095166 %\n",
      "軍事 : 0.15672155918577627 %\n",
      "體育 : 0.019555899255847088 %\n",
      "交通 : 0.008546186581816606 %\n",
      "環境 : 2.0344379739758302e-05 %\n",
      "計算機 : 1.0198784549381766e-09 %\n",
      "政治 : 7.091050716084977e-11 %\n",
      "教育 : 2.972772307361938e-13 %\n",
      "藝術 : 2.401476818612812e-13 %\n",
      "經濟 : 2.4826298013655537e-22 %\n"
     ]
    }
   ],
   "source": [
    "n = input(\"請輸入新聞:\")\n",
    "test = vec.transform([newscut(n)])\n",
    "pre = clf.predict(test)[0]\n",
    "print(\"應該是:\", reverse_trans[pre])\n",
    "proba = clf.predict_proba(test)[0]\n",
    "proba = list(enumerate(proba))\n",
    "for i, prob in sorted(proba, key=lambda x:x[1], reverse=True):\n",
    "    print(reverse_trans[i], \":\", prob * 100, \"%\")"
   ]
  },
  {
   "cell_type": "code",
   "execution_count": 23,
   "metadata": {},
   "outputs": [
    {
     "data": {
      "text/plain": [
       "[(1, 7, 4), (2, 8, 5), (3, 9, 6)]"
      ]
     },
     "execution_count": 23,
     "metadata": {},
     "output_type": "execute_result"
    }
   ],
   "source": [
    "list(zip([1,2,3],\n",
    "         [7,8,9],\n",
    "         [4,5,6]))"
   ]
  },
  {
   "cell_type": "code",
   "execution_count": 35,
   "metadata": {},
   "outputs": [
    {
     "data": {
      "text/plain": [
       "[(1, 'b'), (3, 'a'), (5, 'c')]"
      ]
     },
     "execution_count": 35,
     "metadata": {},
     "output_type": "execute_result"
    }
   ],
   "source": [
    "sorted([(3, \"a\"), (1, \"b\"), (5, \"c\")])"
   ]
  },
  {
   "cell_type": "code",
   "execution_count": null,
   "metadata": {},
   "outputs": [],
   "source": []
  }
 ],
 "metadata": {
  "kernelspec": {
   "display_name": "Python 3",
   "language": "python",
   "name": "python3"
  },
  "language_info": {
   "codemirror_mode": {
    "name": "ipython",
    "version": 3
   },
   "file_extension": ".py",
   "mimetype": "text/x-python",
   "name": "python",
   "nbconvert_exporter": "python",
   "pygments_lexer": "ipython3",
   "version": "3.7.6"
  }
 },
 "nbformat": 4,
 "nbformat_minor": 1
}
