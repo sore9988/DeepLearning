{
 "cells": [
  {
   "cell_type": "code",
   "execution_count": 2,
   "metadata": {
    "scrolled": true
   },
   "outputs": [
    {
     "name": "stdout",
     "output_type": "stream",
     "text": [
      "Downloading data from https://www.cs.toronto.edu/~kriz/cifar-10-python.tar.gz\n",
      "170500096/170498071 [==============================] - 489s 3us/step\n"
     ]
    }
   ],
   "source": [
    "# cifar 10 dataset\n",
    "from keras.datasets.cifar10 import load_data\n",
    "(x_train, y_train), (x_test, y_test) = load_data()"
   ]
  },
  {
   "cell_type": "code",
   "execution_count": 3,
   "metadata": {},
   "outputs": [
    {
     "name": "stdout",
     "output_type": "stream",
     "text": [
      "(50000, 32, 32, 3)\n",
      "(10000, 32, 32, 3)\n"
     ]
    }
   ],
   "source": [
    "print(x_train.shape)\n",
    "print(x_test.shape)"
   ]
  },
  {
   "cell_type": "code",
   "execution_count": 4,
   "metadata": {},
   "outputs": [],
   "source": [
    "trans = [\"飛機\", \"汽車\", \"鳥\", \"貓\", \"鹿\", \"狗\", \"青蛙\", \"馬\", \"船\", \"卡車\"]"
   ]
  },
  {
   "cell_type": "code",
   "execution_count": 5,
   "metadata": {
    "collapsed": true
   },
   "outputs": [
    {
     "name": "stdout",
     "output_type": "stream",
     "text": [
      "鹿\n"
     ]
    },
    {
     "data": {
      "text/plain": [
       "<matplotlib.image.AxesImage at 0x188b4300188>"
      ]
     },
     "execution_count": 5,
     "metadata": {},
     "output_type": "execute_result"
    },
    {
     "data": {
      "image/png": "[encoded data removed]",
      "text/plain": [
       "<Figure size 432x288 with 1 Axes>"
      ]
     },
     "metadata": {
      "needs_background": "light"
     },
     "output_type": "display_data"
    }
   ],
   "source": [
    "import random\n",
    "import matplotlib.pyplot as plt\n",
    "%matplotlib inline\n",
    "c = random.randint(0, 49999)\n",
    "plt.axis(\"off\")\n",
    "# trans[0] -> 飛機\n",
    "# xx -> trans[ [0] ] 不行\n",
    "category = y_train[c][0]\n",
    "print(trans[category])\n",
    "plt.imshow(x_train[c])"
   ]
  },
  {
   "cell_type": "code",
   "execution_count": 6,
   "metadata": {
    "scrolled": true
   },
   "outputs": [
    {
     "data": {
      "text/plain": [
       "array([[[0.23137255, 0.24313725, 0.24705882],\n",
       "        [0.16862745, 0.18039216, 0.17647059],\n",
       "        [0.19607843, 0.18823529, 0.16862745],\n",
       "        ...,\n",
       "        [0.61960784, 0.51764706, 0.42352941],\n",
       "        [0.59607843, 0.49019608, 0.4       ],\n",
       "        [0.58039216, 0.48627451, 0.40392157]],\n",
       "\n",
       "       [[0.0627451 , 0.07843137, 0.07843137],\n",
       "        [0.        , 0.        , 0.        ],\n",
       "        [0.07058824, 0.03137255, 0.        ],\n",
       "        ...,\n",
       "        [0.48235294, 0.34509804, 0.21568627],\n",
       "        [0.46666667, 0.3254902 , 0.19607843],\n",
       "        [0.47843137, 0.34117647, 0.22352941]],\n",
       "\n",
       "       [[0.09803922, 0.09411765, 0.08235294],\n",
       "        [0.0627451 , 0.02745098, 0.        ],\n",
       "        [0.19215686, 0.10588235, 0.03137255],\n",
       "        ...,\n",
       "        [0.4627451 , 0.32941176, 0.19607843],\n",
       "        [0.47058824, 0.32941176, 0.19607843],\n",
       "        [0.42745098, 0.28627451, 0.16470588]],\n",
       "\n",
       "       ...,\n",
       "\n",
       "       [[0.81568627, 0.66666667, 0.37647059],\n",
       "        [0.78823529, 0.6       , 0.13333333],\n",
       "        [0.77647059, 0.63137255, 0.10196078],\n",
       "        ...,\n",
       "        [0.62745098, 0.52156863, 0.2745098 ],\n",
       "        [0.21960784, 0.12156863, 0.02745098],\n",
       "        [0.20784314, 0.13333333, 0.07843137]],\n",
       "\n",
       "       [[0.70588235, 0.54509804, 0.37647059],\n",
       "        [0.67843137, 0.48235294, 0.16470588],\n",
       "        [0.72941176, 0.56470588, 0.11764706],\n",
       "        ...,\n",
       "        [0.72156863, 0.58039216, 0.36862745],\n",
       "        [0.38039216, 0.24313725, 0.13333333],\n",
       "        [0.3254902 , 0.20784314, 0.13333333]],\n",
       "\n",
       "       [[0.69411765, 0.56470588, 0.45490196],\n",
       "        [0.65882353, 0.50588235, 0.36862745],\n",
       "        [0.70196078, 0.55686275, 0.34117647],\n",
       "        ...,\n",
       "        [0.84705882, 0.72156863, 0.54901961],\n",
       "        [0.59215686, 0.4627451 , 0.32941176],\n",
       "        [0.48235294, 0.36078431, 0.28235294]]])"
      ]
     },
     "execution_count": 6,
     "metadata": {},
     "output_type": "execute_result"
    }
   ],
   "source": [
    "# 資料預處理 => 圖片一定要縮小至 0-1\n",
    "# 1. 題目預處理(Normalize)\n",
    "# 卷積不需要攤開\n",
    "x_train_shape = x_train / 255\n",
    "x_test_shape = x_test / 255\n",
    "x_train_shape[0]"
   ]
  },
  {
   "cell_type": "code",
   "execution_count": 7,
   "metadata": {},
   "outputs": [
    {
     "name": "stdout",
     "output_type": "stream",
     "text": [
      "原來: [9]\n",
      "後來: [0. 0. 0. 0. 0. 0. 0. 0. 0. 1.]\n"
     ]
    }
   ],
   "source": [
    "# 2.答案預處理 => one-hot-encoding\n",
    "# 跟上次一模一樣\n",
    "from keras.utils.np_utils import to_categorical\n",
    "y_train_cat = to_categorical(y_train)\n",
    "y_test_cat = to_categorical(y_test)\n",
    "print(\"原來:\",y_train[1])\n",
    "print(\"後來:\",y_train_cat[1])"
   ]
  },
  {
   "cell_type": "code",
   "execution_count": 13,
   "metadata": {},
   "outputs": [
    {
     "name": "stdout",
     "output_type": "stream",
     "text": [
      "Model: \"sequential_4\"\n",
      "_________________________________________________________________\n",
      "Layer (type)                 Output Shape              Param #   \n",
      "=================================================================\n",
      "conv2d_6 (Conv2D)            (None, 32, 32, 32)        896       \n",
      "_________________________________________________________________\n",
      "max_pooling2d_5 (MaxPooling2 (None, 16, 16, 32)        0         \n",
      "_________________________________________________________________\n",
      "conv2d_7 (Conv2D)            (None, 16, 16, 64)        18496     \n",
      "_________________________________________________________________\n",
      "max_pooling2d_6 (MaxPooling2 (None, 8, 8, 64)          0         \n",
      "_________________________________________________________________\n",
      "conv2d_8 (Conv2D)            (None, 8, 8, 128)         73856     \n",
      "_________________________________________________________________\n",
      "max_pooling2d_7 (MaxPooling2 (None, 4, 4, 128)         0         \n",
      "_________________________________________________________________\n",
      "flatten_1 (Flatten)          (None, 2048)              0         \n",
      "_________________________________________________________________\n",
      "dense_1 (Dense)              (None, 256)               524544    \n",
      "_________________________________________________________________\n",
      "dense_2 (Dense)              (None, 10)                2570      \n",
      "=================================================================\n",
      "Total params: 620,362\n",
      "Trainable params: 620,362\n",
      "Non-trainable params: 0\n",
      "_________________________________________________________________\n"
     ]
    }
   ],
   "source": [
    "from keras.models import Sequential\n",
    "# MLP\n",
    "from keras.layers import Dense, Flatten\n",
    "# Conv\n",
    "from keras.layers import Conv2D, MaxPooling2D\n",
    "cnn = Sequential()\n",
    "# (一個過濾器) 3 * 3 * 3 * (filter數目) 32 + (bias)32 = 896\n",
    "cnn.add(Conv2D(32, (3, 3), \n",
    "               input_shape=(32, 32, 3),\n",
    "               padding=\"same\",\n",
    "               activation=\"relu\"))\n",
    "cnn.add(MaxPooling2D(pool_size=(2, 2)))\n",
    "# (一個過濾器) 3 * 3 * 32 * (filter數目) 64 + (bias)64 = 18496\n",
    "cnn.add(Conv2D(64, (3, 3), \n",
    "               padding=\"same\",\n",
    "               activation=\"relu\"))\n",
    "cnn.add(MaxPooling2D(pool_size=(2, 2)))\n",
    "# (一個過濾器) 3 * 3 * 64 * (filter數目) 128 + (bias)128 = 73856     \n",
    "cnn.add(Conv2D(128, (3, 3), \n",
    "               padding=\"same\",\n",
    "               activation=\"relu\"))\n",
    "cnn.add(MaxPooling2D(pool_size=(2, 2)))\n",
    "cnn.add(Flatten())\n",
    "cnn.add(Dense(256, activation=\"relu\"))\n",
    "cnn.add(Dense(10, activation=\"softmax\"))\n",
    "cnn.summary()\n",
    "# 一個 filter 搭配一個 activition = 一個 bias\n",
    "# 最後 => 以 128 個角度看事情"
   ]
  },
  {
   "cell_type": "code",
   "execution_count": null,
   "metadata": {},
   "outputs": [],
   "source": [
    "# 確定模型訓練方式....等\n",
    "# 隨機(隨便選出一組weights)梯度(正確方向)下降\n",
    "# loss : 最後輸出一個: binary_crossentropy, 最後輸出多個: categorical_crossentropy\n",
    "# optimizer: 下降的時候優化 -> 基於動量(我在走的時候不是等於速度,而是速度的累積)\n",
    "cnn.compile(loss=\"categorical_crossentropy\", \n",
    "            metrics=[\"accuracy\"],\n",
    "           optimizer=\"adam\")"
   ]
  },
  {
   "cell_type": "code",
   "execution_count": null,
   "metadata": {},
   "outputs": [],
   "source": [
    "# 以下運用 google colab 線上跑"
   ]
  },
  {
   "cell_type": "code",
   "execution_count": null,
   "metadata": {},
   "outputs": [],
   "source": [
    "# batch: 看幾筆(200)做一次梯度下降(修正)\n",
    "# epochs: 整份考古題看幾次(10)\n",
    "# 10個 epochs, 200batch: 60000 * 10 / 200 -> 300(次)\n",
    "# 停下的時機: 只要看 val_loss 變平滑\n",
    "cnn.fit(x_train_shape,\n",
    "        y_train_cat,\n",
    "        batch_size=200,\n",
    "        epochs=5,\n",
    "        validation_split=0.1,\n",
    "        verbose=2)"
   ]
  },
  {
   "cell_type": "code",
   "execution_count": null,
   "metadata": {},
   "outputs": [],
   "source": [
    "cnn.evaluate(x_test_shape, y_test_cat)"
   ]
  },
  {
   "cell_type": "code",
   "execution_count": null,
   "metadata": {},
   "outputs": [],
   "source": [
    "# predict -> 出現10個機率\n",
    "# predict_classes -> 分類\n",
    "#  [\"飛機\", \"汽車\", \"鳥\", \"貓\", \"鹿\", \"狗\", \"青蛙\", \"馬\", \"船\", \"卡車\"]\n",
    "import pandas as pd\n",
    "pre = cnn.predict_classes(x_test_shape)\n",
    "from sklearn.metrics import confusion_matrix\n",
    "pd.DataFrame(confusion_matrix(y_test, pre))"
   ]
  },
  {
   "cell_type": "code",
   "execution_count": null,
   "metadata": {},
   "outputs": [],
   "source": [
    "# 判斷 x_test 跟 y_test 的 shape\n",
    "# numpy 才能直接數字比較\n",
    "# 發現tuple => 打開她\n",
    "# list: list[一個數字]\n",
    "# numpy array: nparray[ [多個數字] ]\n",
    "import numpy as np\n",
    "y_dim = y_test.reshape(10000)\n",
    "diff = np.nonzero(pre != y_dim)[0]\n",
    "# 預測錯誤圖的原本標籤\n",
    "orifalse = y_test[diff]\n",
    "# 原本錯誤圖的預測標籤\n",
    "prefalse = pre[diff]\n",
    "# 把圖拿出來\n",
    "imgfalse = x_test[diff]\n",
    "# 整張圖寬和高\n",
    "plt.figure(figsize=(14, 450))\n",
    "weight = 10\n",
    "height = int(len(imgfalse)/10)+1\n",
    "for (i, img) in enumerate(imgfalse[0:100]):\n",
    "    # (列述, 行數, 第幾張圖(i開始) )    \n",
    "    plt.subplot(height, weight, i + 1)\n",
    "    plt.axis(\"off\")\n",
    "    t = \"[p]:\" + str(prefalse[i]) + \"[o]:\" + str(orifalse[i])\n",
    "    plt.title(t)\n",
    "    plt.imshow(img)"
   ]
  },
  {
   "cell_type": "code",
   "execution_count": null,
   "metadata": {},
   "outputs": [],
   "source": []
  },
  {
   "cell_type": "code",
   "execution_count": null,
   "metadata": {},
   "outputs": [],
   "source": []
  },
  {
   "cell_type": "code",
   "execution_count": null,
   "metadata": {},
   "outputs": [],
   "source": []
  },
  {
   "cell_type": "code",
   "execution_count": null,
   "metadata": {},
   "outputs": [],
   "source": []
  },
  {
   "cell_type": "code",
   "execution_count": null,
   "metadata": {},
   "outputs": [],
   "source": []
  },
  {
   "cell_type": "code",
   "execution_count": null,
   "metadata": {},
   "outputs": [],
   "source": []
  },
  {
   "cell_type": "code",
   "execution_count": null,
   "metadata": {},
   "outputs": [],
   "source": []
  },
  {
   "cell_type": "code",
   "execution_count": null,
   "metadata": {},
   "outputs": [],
   "source": []
  }
 ],
 "metadata": {
  "kernelspec": {
   "display_name": "Python 3",
   "language": "python",
   "name": "python3"
  },
  "language_info": {
   "codemirror_mode": {
    "name": "ipython",
    "version": 3
   },
   "file_extension": ".py",
   "mimetype": "text/x-python",
   "name": "python",
   "nbconvert_exporter": "python",
   "pygments_lexer": "ipython3",
   "version": "3.7.6"
  }
 },
 "nbformat": 4,
 "nbformat_minor": 4
}
